{
  "nbformat": 4,
  "nbformat_minor": 0,
  "metadata": {
    "colab": {
      "name": "CongnitiveServices-computervision-imagetagging.ipynb",
      "provenance": [],
      "authorship_tag": "ABX9TyM/sTiwwJN3q6IjO1HoJTGN",
      "include_colab_link": true
    },
    "kernelspec": {
      "name": "python3",
      "display_name": "Python 3"
    },
    "language_info": {
      "name": "python"
    }
  },
  "cells": [
    {
      "cell_type": "markdown",
      "metadata": {
        "id": "view-in-github",
        "colab_type": "text"
      },
      "source": [
        "<a href=\"https://colab.research.google.com/github/paulo-batista/ai-projects/blob/master/azure/congnitiveservices_computervision_imagetagging.ipynb\" target=\"_parent\"><img src=\"https://colab.research.google.com/assets/colab-badge.svg\" alt=\"Open In Colab\"/></a>"
      ]
    },
    {
      "cell_type": "code",
      "source": [
        "!pip install --upgrade azure-cognitiveservices-vision-computervision"
      ],
      "metadata": {
        "colab": {
          "base_uri": "https://localhost:8080/"
        },
        "id": "GMF_kwfzEh8p",
        "outputId": "033749cd-6e54-4c5d-db30-ef134e8d1fa0"
      },
      "execution_count": 2,
      "outputs": [
        {
          "output_type": "stream",
          "name": "stdout",
          "text": [
            "Collecting azure-cognitiveservices-vision-computervision\n",
            "  Downloading azure_cognitiveservices_vision_computervision-0.9.0-py2.py3-none-any.whl (39 kB)\n",
            "Collecting msrest>=0.5.0\n",
            "  Downloading msrest-0.6.21-py2.py3-none-any.whl (85 kB)\n",
            "\u001b[K     |████████████████████████████████| 85 kB 2.4 MB/s \n",
            "\u001b[?25hCollecting azure-common~=1.1\n",
            "  Downloading azure_common-1.1.27-py2.py3-none-any.whl (12 kB)\n",
            "Collecting isodate>=0.6.0\n",
            "  Downloading isodate-0.6.1-py2.py3-none-any.whl (41 kB)\n",
            "\u001b[K     |████████████████████████████████| 41 kB 591 kB/s \n",
            "\u001b[?25hRequirement already satisfied: requests-oauthlib>=0.5.0 in /usr/local/lib/python3.7/dist-packages (from msrest>=0.5.0->azure-cognitiveservices-vision-computervision) (1.3.0)\n",
            "Requirement already satisfied: certifi>=2017.4.17 in /usr/local/lib/python3.7/dist-packages (from msrest>=0.5.0->azure-cognitiveservices-vision-computervision) (2021.10.8)\n",
            "Requirement already satisfied: requests~=2.16 in /usr/local/lib/python3.7/dist-packages (from msrest>=0.5.0->azure-cognitiveservices-vision-computervision) (2.23.0)\n",
            "Requirement already satisfied: six in /usr/local/lib/python3.7/dist-packages (from isodate>=0.6.0->msrest>=0.5.0->azure-cognitiveservices-vision-computervision) (1.15.0)\n",
            "Requirement already satisfied: chardet<4,>=3.0.2 in /usr/local/lib/python3.7/dist-packages (from requests~=2.16->msrest>=0.5.0->azure-cognitiveservices-vision-computervision) (3.0.4)\n",
            "Requirement already satisfied: urllib3!=1.25.0,!=1.25.1,<1.26,>=1.21.1 in /usr/local/lib/python3.7/dist-packages (from requests~=2.16->msrest>=0.5.0->azure-cognitiveservices-vision-computervision) (1.24.3)\n",
            "Requirement already satisfied: idna<3,>=2.5 in /usr/local/lib/python3.7/dist-packages (from requests~=2.16->msrest>=0.5.0->azure-cognitiveservices-vision-computervision) (2.10)\n",
            "Requirement already satisfied: oauthlib>=3.0.0 in /usr/local/lib/python3.7/dist-packages (from requests-oauthlib>=0.5.0->msrest>=0.5.0->azure-cognitiveservices-vision-computervision) (3.1.1)\n",
            "Installing collected packages: isodate, msrest, azure-common, azure-cognitiveservices-vision-computervision\n",
            "Successfully installed azure-cognitiveservices-vision-computervision-0.9.0 azure-common-1.1.27 isodate-0.6.1 msrest-0.6.21\n"
          ]
        }
      ]
    },
    {
      "cell_type": "code",
      "execution_count": 3,
      "metadata": {
        "id": "-_BDl0FSEOFb"
      },
      "outputs": [],
      "source": [
        "from azure.cognitiveservices.vision.computervision import ComputerVisionClient\n",
        "from azure.cognitiveservices.vision.computervision.models import OperationStatusCodes\n",
        "from azure.cognitiveservices.vision.computervision.models import VisualFeatureTypes\n",
        "from msrest.authentication import CognitiveServicesCredentials"
      ]
    },
    {
      "cell_type": "code",
      "source": [
        "from array import array\n",
        "import os\n",
        "from PIL import Image\n",
        "import sys\n",
        "import time"
      ],
      "metadata": {
        "id": "XOKfClgvFSyZ"
      },
      "execution_count": 4,
      "outputs": []
    },
    {
      "cell_type": "code",
      "source": [
        "subscription_key = \"35ad785396d44d90994d41a6a90bc4a2\"\n",
        "endpoint = \"https://cv-image-tagging.cognitiveservices.azure.com/\"\n",
        "\n",
        "computervision_client = ComputerVisionClient(endpoint, CognitiveServicesCredentials(subscription_key))\n",
        "\n",
        "remote_image_url = \"https://raw.githubusercontent.com/gottagetgit/AI102Files/main/Computer_Vision\" \\\n",
        "                   \"/Analyze_images_using_Computer_Vision_API/Images/Landmark.jpg \"\n",
        "\n",
        "print(\"===== Tag an image - remote =====\")\n",
        "\n",
        "tags_result_remote = computervision_client.tag_image(remote_image_url)\n",
        "\n",
        "# Print results with confidence score\n",
        "print(\"Tags in the remote image: \\n\")\n",
        "if len(tags_result_remote.tags) == 0:\n",
        "    print(\"No tags detected.\")\n",
        "else:\n",
        "    for tag in tags_result_remote.tags:\n",
        "        print(\"'{}' with confidence {:.2f}%\".format(tag.name, tag.confidence * 100))\n",
        "print()\n"
      ],
      "metadata": {
        "colab": {
          "base_uri": "https://localhost:8080/"
        },
        "id": "EzHrwJfvFURT",
        "outputId": "1e68fd88-e067-44c7-88e5-8f3ac4597897"
      },
      "execution_count": 9,
      "outputs": [
        {
          "output_type": "stream",
          "name": "stdout",
          "text": [
            "===== Tag an image - remote =====\n",
            "Tags in the remote image: \n",
            "\n",
            "'outdoor' with confidence 99.00%\n",
            "'building' with confidence 98.81%\n",
            "'sky' with confidence 98.21%\n",
            "'stadium' with confidence 98.17%\n",
            "'ancient rome' with confidence 96.16%\n",
            "'ruins' with confidence 95.04%\n",
            "'amphitheatre' with confidence 93.99%\n",
            "'ancient roman architecture' with confidence 92.65%\n",
            "'historic site' with confidence 89.55%\n",
            "'ancient history' with confidence 89.54%\n",
            "'history' with confidence 86.72%\n",
            "'archaeological site' with confidence 84.41%\n",
            "'travel' with confidence 65.85%\n",
            "'large' with confidence 61.02%\n",
            "'city' with confidence 56.57%\n",
            "\n"
          ]
        }
      ]
    }
  ]
}